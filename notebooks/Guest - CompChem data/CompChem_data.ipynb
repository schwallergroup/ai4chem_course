{
  "cells": [
    {
      "cell_type": "markdown",
      "metadata": {
        "id": "C8H6Dv_JNB-3"
      },
      "source": [
        "## Setup Environment"
      ]
    },
    {
      "cell_type": "code",
      "execution_count": null,
      "metadata": {
        "colab": {
          "base_uri": "https://localhost:8080/"
        },
        "collapsed": true,
        "id": "EjrPWUaJgnjL",
        "outputId": "019792e0-bf9c-4897-d949-a0ea1e2ddc84"
      },
      "outputs": [],
      "source": [
        "!pip install autoadsorbate\n",
        "!pip install mace-torch"
      ]
    },
    {
      "cell_type": "markdown",
      "metadata": {
        "id": "h3llBqZpNB45"
      },
      "source": [
        "## Init"
      ]
    },
    {
      "cell_type": "code",
      "execution_count": null,
      "metadata": {
        "colab": {
          "base_uri": "https://localhost:8080/"
        },
        "id": "qiis2RdiguAh",
        "outputId": "d17390aa-52b7-417b-8f1b-193d8f8d3187"
      },
      "outputs": [],
      "source": [
        "import pandas as pd\n",
        "import seaborn as sns\n",
        "from google.colab import files\n",
        "from ase.io import read, write\n",
        "from ase.build import fcc211\n",
        "\n",
        "from mace.calculators import mace_mp\n",
        "from autoadsorbate import Surface, Fragment\n"
      ]
    },
    {
      "cell_type": "markdown",
      "metadata": {
        "id": "cuuQo5GunYP4"
      },
      "source": [
        "# Optional task"
      ]
    },
    {
      "cell_type": "markdown",
      "metadata": {
        "id": "Hl4vG8OjnY33"
      },
      "source": [
        "Compare the (211) surfaces of Pd and Cu.\n",
        "\n",
        "1.    How do these surfaces differ in terms of hydrogen (H) affinity?\n",
        "\n",
        "2.    How do these surfaces differ in terms of oxygen (O) affinity?\n",
        "\n",
        "3.    How do these surfaces differ in terms of carbon (C) affinity?\n",
        "\n",
        "4.    How does proximity to a step edge influence substrate affinity?\n",
        "\n",
        "All creative approaches to answering these questions are welcome. However, here are a few suggestions to help you get started:"
      ]
    },
    {
      "cell_type": "markdown",
      "metadata": {
        "id": "N2YHgYN9pT6X"
      },
      "source": [
        "# Example of building structures and running MLIP relaxations"
      ]
    },
    {
      "cell_type": "markdown",
      "metadata": {
        "id": "aFmN-4wVrzBU"
      },
      "source": [
        "Here is a convenient way to generate periodic slab structures as `ase.Atoms` objects using [ASE](https://wiki.fysik.dtu.dk/ase/). Once the slab is created, the next step is to identify which atoms belong to the surface and how to define individual active sites. For this, we can use AutoAdsorbate—you can find more information on how this is done in the [AutoAdsorbate GitHub repository](https://github.com/basf/autoadsorbate).\n",
        "\n",
        "Next, we can select surrogate molecules in `SMILES` (`*SMILES`) format that bind via a carbon (C) or oxygen (O) atom—or even just hydrogen (H) itself. For guidance on this process, refer again to the [AutoAdsorbate](https://github.com/basf/autoadsorbate) documentation.\n",
        "\n",
        "Combining this information allows us to create Slab+Fragment configurations. These configurations can then be relaxed using a universal machine-learned interatomic potential (MLIP), such as the [MACE](https://github.com/ACEsuit/mace) and the universal [foundational model](https://github.com/ACEsuit/mace-foundations). Be sure to record the energies obtained from these relaxed structures.\n",
        "\n"
      ]
    },
    {
      "cell_type": "markdown",
      "metadata": {
        "id": "hpF78ZTrM7lt"
      },
      "source": [
        "## Make Slab+Fragment configurations"
      ]
    },
    {
      "cell_type": "code",
      "execution_count": null,
      "metadata": {
        "colab": {
          "base_uri": "https://localhost:8080/",
          "height": 453
        },
        "id": "LowbEkyQhYh_",
        "outputId": "6542ddd8-4b57-4b7a-c118-17393e93758f"
      },
      "outputs": [],
      "source": [
        "slab = fcc211(symbol = 'Cu', size=(6,3,3), vacuum=10)  # any ase.Atoms object\n",
        "s=Surface(slab, touch_sphere_size=2.7)                 # finding all surface atoms\n",
        "s.sym_reduce()                                         # keeping only non-identical sites\n",
        "\n",
        "fragments = [\n",
        "    Fragment('S1SOC=[O+]1', to_initialize=1), # For each *SMILES we can request a differnet number of conformers\n",
        "    Fragment('ClC(O)=O', to_initialize=1),    # based on how much conformational complexity we expect.\n",
        "    Fragment('Cl', to_initialize=1),          # this is the surrogate smiles of an adsorbed H atom.\n",
        "    ]\n",
        "\n",
        "out_trj = []\n",
        "for fragment in fragments:\n",
        "\n",
        "    overlap_thr=1.6\n",
        "    if fragment.smile == 'Cl':     # the bond between H and the surface is short, so we can relax the overlap criterion\n",
        "      overlap_thr = 1.\n",
        "\n",
        "    out_trj += s.get_populated_sites(\n",
        "      fragment,                    # Fragment object\n",
        "      site_index='all',            # a single site can be provided here\n",
        "      sample_rotation=True,        # rotate the Fragment around the surface-fragment bond?\n",
        "      mode='heuristic',            # 'all' or 'heuristic', if heuristic surrogate smiles with 'Cl...' will be matched with top sites, etc.\n",
        "      conformers_per_site_cap=5,   # max number of conformers to sample\n",
        "      overlap_thr=overlap_thr,     # tolerated bond overlap betwen the surface and fragment\n",
        "      verbose=True\n",
        "      )\n",
        "    print('out_trj has this many structures: ', len(out_trj))\n",
        "\n",
        "write('./out_trj.xyz', out_trj)\n",
        "files.download('./out_trj.xyz')"
      ]
    },
    {
      "cell_type": "markdown",
      "metadata": {
        "id": "Y3MhJi0AuJQE"
      },
      "source": [
        "We have the trajectory containing constructed Slab+Fragment configurations ready:"
      ]
    },
    {
      "cell_type": "code",
      "execution_count": null,
      "metadata": {
        "id": "flQ9wgl1REHA"
      },
      "outputs": [],
      "source": [
        "out_trj = read('out_trj.xyz', index=':')"
      ]
    },
    {
      "cell_type": "markdown",
      "metadata": {
        "id": "AYK-JjnsucXW"
      },
      "source": [
        "Now that we have constructed our Slab+Fragment configurations, we can proceed with relaxing these structures to obtain more realistic geometries and evaluate their corresponding energies. Structural relaxation is a crucial step, as it allows the system to reach a local energy minimum, providing more accurate insights into surface interactions and binding characteristics.\n",
        "\n",
        "To carry out the relaxation using the Atomic Simulation Environment (ASE), we need two main components:\n",
        "\n",
        "An ASE Calculator:\n",
        "This defines the method by which atomic energies and forces are computed. In our case, we will use a machine-learned interatomic potential (MLIP) such as the MACE foundational model. The calculator serves as the interface between ASE and the underlying energy model, allowing ASE to query energies and forces for a given atomic configuration.\n",
        "\n",
        "An ASE Dynamics Driver:\n",
        "This controls how the atomic positions are updated during the relaxation process. In this workflow, we use the FIRE algorithm. FIRE combines aspects of molecular dynamics and gradient-based minimization, making it well-suited for challenging geometries such as surfaces and adsorbates.\n",
        "\n",
        "Both of these components need to be properly defined before launching the relaxation job. Below, we will provide examples of how to set up the calculator and the FIRE optimizer, and how to initiate the relaxation loop:"
      ]
    },
    {
      "cell_type": "code",
      "execution_count": null,
      "metadata": {
        "colab": {
          "base_uri": "https://localhost:8080/",
          "height": 662
        },
        "id": "zahrzpLMJWr9",
        "outputId": "95c4d785-b595-4a2b-f1cf-10c8364f5cf8"
      },
      "outputs": [],
      "source": [
        "from ase.optimize import FIRE\n",
        "from ase.constraints import FixAtoms\n",
        "\n",
        "calc = mace_mp(device='cpu') # Replace with the desired method\n",
        "\n",
        "data_traj = []\n",
        "\n",
        "for i, atoms in enumerate(out_trj[:5]):\n",
        "\n",
        "  relax_id = f'relaxation_{i}'   # keep track of relaxtion index\n",
        "\n",
        "  relax_atoms = atoms.copy() # Create a copy of the atoms object to avoid modifying the original\n",
        "  relax_atoms.calc = calc    # Set up the MACE calculator\n",
        "  relax_atoms.constraints = FixAtoms(indices=[atom.index for atom in relax_atoms if atom.symbol == 'Cu']) # Fix Cu atoms\n",
        "\n",
        "  relax_atoms.info['mlip_energy_step0'] = relax_atoms.get_potential_energy()\n",
        "\n",
        "  dyn = FIRE(relax_atoms)    # Optimize the structure using FIRE\n",
        "  dyn.run(fmax=3.)           # We would consider a structure \"good enough\" fmax=0.05, and properly relaxed fmax=0.01\n",
        "\n",
        "  relax_atoms.info.update(\n",
        "      **{'mlip_energy': relax_atoms.get_potential_energy(), 'relax_id': relax_id} # log info of relaxed structure\n",
        "  )\n",
        "\n",
        "  data_traj.append(relax_atoms) # relaxed atoms\n",
        "\n",
        "\n",
        "# Now 'data_traj' contains the optimized structures.\n",
        "# You can save them or further process them.\n",
        "write('./data_traj.xyz', data_traj)\n",
        "files.download('./data_traj.xyz')\n"
      ]
    },
    {
      "cell_type": "markdown",
      "metadata": {
        "id": "9TNwEdWLvveG"
      },
      "source": [
        "Now we're ready to dive into the data and see what insights it holds!\n",
        "\n",
        "One particularly convenient feature is how easily we can extract the `atoms.info` dictionary from each structure, collect them into a list, and convert that list into a Pandas DataFrame. This structure makes it straightforward to analyze trends, filter results, and generate plots for visualization."
      ]
    },
    {
      "cell_type": "code",
      "execution_count": null,
      "metadata": {
        "id": "5W2QEsMzEZNI"
      },
      "outputs": [],
      "source": [
        "data_traj = read('./data_traj.xyz', index=':')\n",
        "data = []\n",
        "for a in data_traj:\n",
        "  atoms = a.copy()\n",
        "  _info = atoms.info.pop('adsorbate_info')\n",
        "  __info = _info.pop('site')\n",
        "  # __info = atoms.info.pop('site')\n",
        "  data.append({**_info, **__info, **atoms.info})\n",
        "\n",
        "df = pd.DataFrame(data)"
      ]
    },
    {
      "cell_type": "code",
      "execution_count": null,
      "metadata": {
        "colab": {
          "base_uri": "https://localhost:8080/",
          "height": 469
        },
        "id": "sbRg9lGBPyFb",
        "outputId": "e5b16bbf-46de-4c65-fbef-d51d046ba208"
      },
      "outputs": [],
      "source": [
        "df"
      ]
    },
    {
      "cell_type": "code",
      "execution_count": null,
      "metadata": {
        "colab": {
          "base_uri": "https://localhost:8080/",
          "height": 460
        },
        "id": "qRgnAXPBOihh",
        "outputId": "ba03dd76-9165-4fbe-9ea3-1555399da243"
      },
      "outputs": [],
      "source": [
        "sns.scatterplot(df, y='mlip_energy', x='relax_id', hue='smiles')"
      ]
    },
    {
      "cell_type": "code",
      "execution_count": null,
      "metadata": {
        "id": "w5cwZpz_OorI"
      },
      "outputs": [],
      "source": []
    }
  ],
  "metadata": {
    "colab": {
      "provenance": [],
      "toc_visible": true
    },
    "kernelspec": {
      "display_name": "Python 3",
      "name": "python3"
    },
    "language_info": {
      "name": "python"
    }
  },
  "nbformat": 4,
  "nbformat_minor": 0
}
